{
 "cells": [
  {
   "cell_type": "markdown",
   "metadata": {},
   "source": [
    "```\n",
    "The MIT License (MIT)\n",
    "\n",
    "Copyright (c) 2020 NVIDIA\n",
    "\n",
    "Permission is hereby granted, free of charge, to any person obtaining a copy of\n",
    "this software and associated documentation files (the \"Software\"), to deal in\n",
    "the Software without restriction, including without limitation the rights to\n",
    "use, copy, modify, merge, publish, distribute, sublicense, and/or sell copies of\n",
    "the Software, and to permit persons to whom the Software is furnished to do so,\n",
    "subject to the following conditions:\n",
    "\n",
    "The above copyright notice and this permission notice shall be included in all\n",
    "copies or substantial portions of the Software.\n",
    "\n",
    "THE SOFTWARE IS PROVIDED \"AS IS\", WITHOUT WARRANTY OF ANY KIND, EXPRESS OR\n",
    "IMPLIED, INCLUDING BUT NOT LIMITED TO THE WARRANTIES OF MERCHANTABILITY, FITNESS\n",
    "FOR A PARTICULAR PURPOSE AND NONINFRINGEMENT. IN NO EVENT SHALL THE AUTHORS OR\n",
    "COPYRIGHT HOLDERS BE LIABLE FOR ANY CLAIM, DAMAGES OR OTHER LIABILITY, WHETHER\n",
    "IN AN ACTION OF CONTRACT, TORT OR OTHERWISE, ARISING FROM, OUT OF OR IN\n",
    "CONNECTION WITH THE SOFTWARE OR THE USE OR OTHER DEALINGS IN THE SOFTWARE.\n",
    "\n",
    "```"
   ]
  },
  {
   "cell_type": "markdown",
   "metadata": {},
   "source": [
    "# Model Converstion to NVIDIA TensorRT & Inference\n",
    "\n",
    "Walthrough a generic pipeline for:\n",
    "- Converting a Pytorch network to TensorRT (via ONNX)\n",
    "- With and without dynamic batch\n",
    "- Steps for Running inference using a TensorRT engine in Python\n",
    "\n",
    "#### Environment\n",
    "All steps executed using **NGC Pytorch Docker (v 20.06)**\n",
    "* [GPU Dashboards](https://medium.com/rapids-ai/gpu-dashboards-in-jupyter-lab-757b17aae1d5) installed using\n",
    "```\n",
    "pip install jupyterlab-nvdashboard\n",
    "jupyter labextension install jupyterlab-nvdashboard\n",
    "```\n",
    "* [Netron](https://github.com/lutzroeder/netron) for network visualization"
   ]
  },
  {
   "cell_type": "code",
   "execution_count": 1,
   "metadata": {},
   "outputs": [],
   "source": [
    "import numpy as np\n",
    "import torch\n",
    "import json\n",
    "from pathlib import Path\n",
    "from PIL import Image\n",
    "import os\n",
    "import torch\n",
    "import torch.nn as nn\n",
    "import torchvision.transforms as transforms\n",
    "\n",
    "from torch.autograd import Variable\n",
    "import numpy as np\n",
    "import pandas as pd\n",
    "import torch.nn.parallel\n",
    "import torch.optim as optim\n",
    "import torch.utils.data\n",
    "from torch.autograd import Variable\n",
    "import torch.nn.functional as F\n",
    "import sys\n",
    "import os \n",
    "import numpy as np"
   ]
  },
  {
   "cell_type": "markdown",
   "metadata": {},
   "source": [
    "#### Dataset\n",
    "* [NIH ChestXray 14 dataset](https://www.nih.gov/news-events/news-releases/nih-clinical-center-provides-one-largest-publicly-available-chest-x-ray-datasets-scientific-community)\n",
    "* 112,120 frontal view chest xrays from 30,805 unique subjects\n",
    "* X-ray images are available as bitmaps extracted from the DICOM file"
   ]
  },
  {
   "cell_type": "code",
   "execution_count": 4,
   "metadata": {},
   "outputs": [],
   "source": [
    "def getData(filname):\n",
    "    # images are 48x48 = 2304 size vectors\n",
    "    # N = 35887\n",
    "    Y = []\n",
    "    X = []\n",
    "    first = True\n",
    "    for line in open(filname):\n",
    "        if first:\n",
    "            first = False\n",
    "        else:\n",
    "            row = line.split(',')\n",
    "            Y.append(int(row[0]))\n",
    "            X.append([int(p) for p in row[1].split()])\n",
    "    X, Y = np.array(X) / 255.0, np.array(Y) # scaling is already done here\n",
    "    X=X.reshape(35887,1,48,48)\n",
    "    return X,Y\n",
    "\n",
    "def get_loader(X,Y,bz):\n",
    "    tensor_X = torch.stack([torch.from_numpy(np.array(i)) for i in X])\n",
    "    tensor_y = torch.stack([torch.from_numpy(np.array(i)) for i in Y])\n",
    "\n",
    "    train_dataset = torch.utils.data.TensorDataset(tensor_X, tensor_y)\n",
    "    train_loader = torch.utils.data.DataLoader(train_dataset,batch_size=bz)\n",
    "    return train_loader"
   ]
  },
  {
   "cell_type": "code",
   "execution_count": 6,
   "metadata": {},
   "outputs": [
    {
     "name": "stdout",
     "output_type": "stream",
     "text": [
      "(35887, 1, 48, 48) (35887,)\n"
     ]
    }
   ],
   "source": [
    "bs = 8 \n",
    "X,Y = getData('./NB_images/fer2013.csv')\n",
    "print(X.shape, Y.shape)\n",
    "train_loader = get_loader(X,Y,bs)"
   ]
  },
  {
   "cell_type": "code",
   "execution_count": 9,
   "metadata": {},
   "outputs": [
    {
     "data": {
      "text/plain": [
       "(array([0, 1, 2, 3, 4, 5, 6]),\n",
       " array([4953,  547, 5121, 8989, 6077, 4002, 6198]))"
      ]
     },
     "execution_count": 9,
     "metadata": {},
     "output_type": "execute_result"
    }
   ],
   "source": [
    "np.unique(Y,return_counts=True)"
   ]
  },
  {
   "cell_type": "code",
   "execution_count": 15,
   "metadata": {},
   "outputs": [
    {
     "data": {
      "image/png": "[encoded data removed]",
      "text/plain": [
       "<Figure size 432x288 with 1 Axes>"
      ]
     },
     "metadata": {
      "needs_background": "light"
     },
     "output_type": "display_data"
    }
   ],
   "source": [
    "import matplotlib.pyplot as plt\n",
    "import random\n",
    "%matplotlib inline\n",
    "rn=random.randint(0,len(X)-1)\n",
    "\n",
    "num2label={0:'Anger', 1:'Disgust',2:'Fear', 3:'Happy',4: 'Sad', 5:'Surprise', 6:'Neutral'}\n",
    "plt.imshow(np.squeeze(X[rn]), cmap='gray')\n",
    "plt.title(num2label[Y[rn]])\n",
    "plt.show()\n"
   ]
  },
  {
   "cell_type": "markdown",
   "metadata": {},
   "source": [
    "### Model"
   ]
  },
  {
   "cell_type": "code",
   "execution_count": 16,
   "metadata": {
    "tags": []
   },
   "outputs": [
    {
     "name": "stdout",
     "output_type": "stream",
     "text": [
      "using GPU device  cuda:0\n"
     ]
    }
   ],
   "source": [
    "from torch import nn\n",
    "import torchvision.models as models\n",
    "\n",
    "\n",
    "num_classes = 7\n",
    "class Net(nn.Module):\n",
    "    def __init__(self):\n",
    "        super(Net, self).__init__()\n",
    "        self.conv1 = nn.Conv2d(1, 6, 5) #44x(48-5+1)(48-5+1)\n",
    "        self.pool = nn.MaxPool2d(2, 2)\n",
    "        self.conv2 = nn.Conv2d(6, 24, 5)\n",
    "        self.fc1 = nn.Linear(24 * 9 * 9, 128)\n",
    "        self.fc2 = nn.Linear(128, 256)\n",
    "        self.fc3 = nn.Linear(256, num_classes)\n",
    "\n",
    "    def forward(self, x):\n",
    "        x = x.float()\n",
    "        x = self.pool(F.relu(self.conv1(x)))\n",
    "        x = self.pool(F.relu(self.conv2(x)))\n",
    "        x = x.view(-1,self.num_flat_features(x))\n",
    "        x = F.relu(self.fc1(x))\n",
    "        x = F.relu(self.fc2(x))\n",
    "        x = self.fc3(x)\n",
    "        return x\n",
    "    def num_flat_features(self, x):\n",
    "        size = x.size()[1:]\n",
    "        num_features = 1\n",
    "        for s in size:\n",
    "                num_features *=s\n",
    "        return num_features\n",
    "\n",
    "use_gpu=True\n",
    "if use_gpu:  \n",
    "    device = torch.device(\"cuda:{}\".format(0) if torch.cuda.is_available() else \"cpu\") # train on gpu number 0 \n",
    "    print(\"using GPU device \", device )\n",
    "\n",
    "\n",
    "# construct the model and move to GPU if using GPU to train\n",
    "net=Net()\n",
    "if use_gpu:\n",
    "    torch.cuda.set_device(device)\n",
    "    net.cuda()\n",
    "    criterion = nn.CrossEntropyLoss().cuda(device)\n",
    "else:\n",
    "    criterion = nn.CrossEntropyLoss()    \n",
    "optimizer = optim.SGD(net.parameters(), lr=0.001, momentum=0.9)\n",
    "\n",
    "\n"
   ]
  },
  {
   "cell_type": "code",
   "execution_count": 19,
   "metadata": {},
   "outputs": [],
   "source": [
    "def train_fn(train_loader,net, optimizer,criterion, epochs):   \n",
    "    for e in range(epochs):\n",
    "        running_loss =0\n",
    "        correct = 0\n",
    "        total = 0\n",
    "        collect_normalizer=0\n",
    "        for i, data in enumerate(train_loader):\n",
    "            #print(i, len(data), data[0]['data'].size(), data[0]['label'].size())\n",
    "            #print(i, data[0]['data'].permute(0, 3, 1, 2).size(), data[0]['label'].size())\n",
    "            inputs = data[0].to(device)\n",
    "            labels = data[1].squeeze().type(torch.LongTensor).to(device)\n",
    "            #print(inputs.size(), labels.size())\n",
    "            # zero the parameter gradients\n",
    "            collect_normalizer += len(data[0])\n",
    "            optimizer.zero_grad()\n",
    "            # forward + backward + optimize\n",
    "            outputs = net(inputs)\n",
    "            pred,predicted =torch.max(outputs.data,1)\n",
    "            pred_list=predicted.data.tolist()\n",
    "            correct += (predicted == labels).sum().item()\n",
    "            #acc=round(100 * correct / len(data[0][\"data\"]),4)\n",
    "            #print(outputs.size())\n",
    "            loss = criterion(outputs, labels)\n",
    "            loss.backward()\n",
    "            optimizer.step()\n",
    "            # print statistics\n",
    "            #print(\"loss is\",loss.item())\n",
    "            running_loss += loss.item()\n",
    "            #print(collect_normalizer)\n",
    "        print('Epoch [{}/{}],  ACC {:.4f}'.format(e + 1, epochs, correct / collect_normalizer ))\n",
    "\n",
    "    return net, optimizer, train_loader"
   ]
  },
  {
   "cell_type": "code",
   "execution_count": 21,
   "metadata": {},
   "outputs": [
    {
     "name": "stdout",
     "output_type": "stream",
     "text": [
      "Epoch [1/25],  ACC 0.9112\n",
      "Epoch [2/25],  ACC 0.9201\n",
      "Epoch [3/25],  ACC 0.9204\n",
      "Epoch [4/25],  ACC 0.9310\n",
      "Epoch [5/25],  ACC 0.9339\n",
      "Epoch [6/25],  ACC 0.9373\n",
      "Epoch [7/25],  ACC 0.9405\n",
      "Epoch [8/25],  ACC 0.9404\n",
      "Epoch [9/25],  ACC 0.9417\n",
      "Epoch [10/25],  ACC 0.9433\n",
      "Epoch [11/25],  ACC 0.9479\n",
      "Epoch [12/25],  ACC 0.9520\n",
      "Epoch [13/25],  ACC 0.9488\n",
      "Epoch [14/25],  ACC 0.9533\n",
      "Epoch [15/25],  ACC 0.9555\n",
      "Epoch [16/25],  ACC 0.9605\n",
      "Epoch [17/25],  ACC 0.9565\n",
      "Epoch [18/25],  ACC 0.9599\n",
      "Epoch [19/25],  ACC 0.9648\n",
      "Epoch [20/25],  ACC 0.9677\n",
      "Epoch [21/25],  ACC 0.9669\n",
      "Epoch [22/25],  ACC 0.9652\n",
      "Epoch [23/25],  ACC 0.9689\n",
      "Epoch [24/25],  ACC 0.9645\n",
      "Epoch [25/25],  ACC 0.9661\n"
     ]
    }
   ],
   "source": [
    "epochs=25\n",
    "net, optimizer, train_loader =train_fn(train_loader, net, optimizer,criterion, epochs)"
   ]
  },
  {
   "cell_type": "code",
   "execution_count": 23,
   "metadata": {
    "tags": []
   },
   "outputs": [],
   "source": [
    "# save model\n",
    "torch.save({\n",
    "            'state_dict': net.state_dict(),\n",
    "            'optimizer': optimizer.state_dict(),\n",
    "\n",
    "            }, './ckpt/model.pt')"
   ]
  },
  {
   "cell_type": "code",
   "execution_count": 27,
   "metadata": {},
   "outputs": [
    {
     "data": {
      "text/plain": [
       "Net(\n",
       "  (conv1): Conv2d(1, 6, kernel_size=(5, 5), stride=(1, 1))\n",
       "  (pool): MaxPool2d(kernel_size=2, stride=2, padding=0, dilation=1, ceil_mode=False)\n",
       "  (conv2): Conv2d(6, 24, kernel_size=(5, 5), stride=(1, 1))\n",
       "  (fc1): Linear(in_features=1944, out_features=128, bias=True)\n",
       "  (fc2): Linear(in_features=128, out_features=256, bias=True)\n",
       "  (fc3): Linear(in_features=256, out_features=7, bias=True)\n",
       ")"
      ]
     },
     "execution_count": 27,
     "metadata": {},
     "output_type": "execute_result"
    }
   ],
   "source": [
    "#load model\n",
    "loaded_model = Net()\n",
    "optimizer = optim.SGD(loaded_model.parameters(), lr=0.001, momentum=0.9)\n",
    "\n",
    "checkpoint = torch.load('./ckpt/model.pt')\n",
    "loaded_model.load_state_dict(checkpoint['state_dict'])\n",
    "optimizer.load_state_dict(checkpoint['optimizer'])\n",
    "\n",
    "loaded_model.eval()"
   ]
  },
  {
   "cell_type": "code",
   "execution_count": 29,
   "metadata": {
    "tags": [
     "outputPrepend"
    ]
   },
   "outputs": [],
   "source": [
    "input_names=['input']\n",
    "output_names=['output']\n",
    "dynamic_axes={'input': {0: 'batch_size'}, 'output': {0: 'batch_size'}}\n",
    "\n",
    "# A dummy input is needed to generate the ONNX model\n",
    "# Using NCHW format\n",
    "dummy_input = torch.randn(8, 1, 48,48) \n",
    "\n",
    "# No dynamic batch dimension\n",
    "torch.onnx.export(loaded_model, dummy_input, \"./ckpt/model_weights.onnx\", verbose=False, \n",
    "                  input_names=input_names, output_names=output_names)\n",
    "\n",
    "# With dynamic batch dimension\n",
    "torch.onnx.export(loaded_model, dummy_input, \"./ckpt/model_weights_dynamicbatch.onnx\", verbose=False, \n",
    "                  input_names=input_names, output_names=output_names, dynamic_axes=dynamic_axes)"
   ]
  },
  {
   "cell_type": "code",
   "execution_count": 30,
   "metadata": {},
   "outputs": [],
   "source": [
    "import onnx\n",
    "#Load the ONNX Model\n",
    "model_onnx = onnx.load(\"./ckpt/model_weights_dynamicbatch.onnx\")\n",
    "\n",
    "# # Check that the IR is well formed\n",
    "onnx.checker.check_model(model_onnx)\n",
    "\n",
    "# # Print a human readable representation of the graph\n",
    "# onnx.helper.printable_graph(model_onnx.graph)"
   ]
  },
  {
   "cell_type": "code",
   "execution_count": 32,
   "metadata": {},
   "outputs": [
    {
     "name": "stdout",
     "output_type": "stream",
     "text": [
      "-rw-r--r-- 1 root root 1.1M Aug 17 10:07 ./ckpt/model_weights.onnx\n",
      "-rw-r--r-- 1 root root 1.1M Aug 17 10:07 ./ckpt/model_weights_dynamicbatch.onnx\n"
     ]
    }
   ],
   "source": [
    "!ls -lh ./ckpt/*.onnx"
   ]
  },
  {
   "cell_type": "markdown",
   "metadata": {},
   "source": [
    "**Check the ONNX network in Netron (at http://localhost:8080/)**"
   ]
  },
  {
   "cell_type": "markdown",
   "metadata": {},
   "source": [
    "### Test inference"
   ]
  },
  {
   "cell_type": "code",
   "execution_count": 36,
   "metadata": {},
   "outputs": [
    {
     "name": "stdout",
     "output_type": "stream",
     "text": [
      "torch.Size([8, 1, 48, 48]) tensor([0, 0, 2, 4, 6, 2, 4, 3])\n",
      "torch.Size([8, 1, 48, 48]) tensor([3, 2, 0, 6, 6, 6, 3, 5])\n",
      "torch.Size([8, 1, 48, 48]) tensor([3, 2, 6, 4, 4, 2, 0, 0])\n"
     ]
    }
   ],
   "source": [
    "\n",
    "for i,data in enumerate(train_loader):\n",
    "    if i<=2:\n",
    "        im=data[0].to(device)\n",
    "        lb=data[1].squeeze().type(torch.LongTensor)\n",
    "        print(im.size(),lb)\n",
    "        \n",
    "    else:\n",
    "        break"
   ]
  },
  {
   "cell_type": "code",
   "execution_count": 48,
   "metadata": {},
   "outputs": [
    {
     "data": {
      "text/plain": [
       "(8, 1, 48, 48)"
      ]
     },
     "execution_count": 48,
     "metadata": {},
     "output_type": "execute_result"
    }
   ],
   "source": [
    "im.cpu().detach().numpy().shape"
   ]
  },
  {
   "cell_type": "markdown",
   "metadata": {},
   "source": [
    "### Pytorch"
   ]
  },
  {
   "cell_type": "code",
   "execution_count": 42,
   "metadata": {},
   "outputs": [
    {
     "name": "stdout",
     "output_type": "stream",
     "text": [
      "tensor([6, 5, 5, 0, 3, 1, 2], device='cuda:0')\n"
     ]
    }
   ],
   "source": [
    "loaded_model.eval()\n",
    "loaded_model.cuda()\n",
    "with torch.no_grad():\n",
    "    outputs_pyt = loaded_model(im)\n",
    "    outputs_pyt=torch.argmax(outputs_pyt,dim=0)\n",
    "    print(outputs_pyt)"
   ]
  },
  {
   "cell_type": "markdown",
   "metadata": {},
   "source": [
    "### ONNX"
   ]
  },
  {
   "cell_type": "code",
   "execution_count": 61,
   "metadata": {},
   "outputs": [
    {
     "name": "stdout",
     "output_type": "stream",
     "text": [
      "(8, 1, 48, 48) <class 'numpy.ndarray'>\n"
     ]
    },
    {
     "data": {
      "text/plain": [
       "array([6, 5, 5, 0, 3, 1, 2])"
      ]
     },
     "execution_count": 61,
     "metadata": {},
     "output_type": "execute_result"
    }
   ],
   "source": [
    "#Run ONNX inference\n",
    "import onnxruntime as ort\n",
    "\n",
    "#ort_session = ort.InferenceSession('./ckpt/model_weights.onnx')\n",
    "ort_session = ort.InferenceSession('./ckpt/model_weights_dynamicbatch.onnx')\n",
    "\n",
    "\n",
    "def to_numpy(tensor):\n",
    "    return tensor.detach().cpu().numpy() if tensor.requires_grad else tensor.cpu().numpy().astype('float32') \n",
    "# adding .astype('float32') refer to this issue http://www.xavierdupre.fr/app/onnxruntime/helpsphinx/auto_examples/plot_common_errors.html\n",
    "\n",
    "# compute ONNX Runtime output prediction\n",
    "print(to_numpy(im).shape, type(to_numpy(im)))\n",
    "\n",
    "ort_outs = ort_session.run(None, {'input': to_numpy(im)})\n",
    "\n",
    "img_out_y = ort_outs[0] # 'input is the layer name specified earlier'\n",
    "np.argmax(img_out_y,axis=0)"
   ]
  },
  {
   "cell_type": "code",
   "execution_count": 91,
   "metadata": {},
   "outputs": [
    {
     "data": {
      "text/plain": [
       "(8, 7)"
      ]
     },
     "execution_count": 91,
     "metadata": {},
     "output_type": "execute_result"
    }
   ],
   "source": []
  },
  {
   "cell_type": "markdown",
   "metadata": {},
   "source": [
    "# TensorRT"
   ]
  },
  {
   "cell_type": "markdown",
   "metadata": {},
   "source": [
    "### Key Concepts\n",
    "**Network Definition**: interface provides methods for the application to specify the definition of a network.\n",
    "\n",
    "**Builder Configuration**: interface specifies details for creating an engine.\n",
    "\n",
    "**Builder**: allows the creation of an optimized engine from a network definition and a builder configuration.\n",
    "\n",
    "**Engine**: allows the application to execute inference. It supports synchronous and asynchronous execution, profiling, and enumeration and querying of the bindings for the engine inputs and outputs.\n",
    "\n",
    "An **Optimization profile** specifies constraints on dynamic dimensions. It describes a range of dimensions for each network input and the dimensions that the auto-tuner should use for optimization. When using runtime dimensions, you must create at least one optimization profile at build time. Two profiles can specify disjoint or overlapping ranges.\n",
    "\n",
    "For example, one profile might specify a minimum size of [3,100,200], a maximum size of [3,200,300], and optimization dimensions of [3,150,250] while another profile might specify min, max and optimization dimensions of [3,200,100], [3,300,400], and [3,250,250].\n",
    "\n",
    "\n",
    "\n",
    "> Note, if your TensorRT engine has fixed batch size and input shapes, then you **do not** need to worry about optimization profile(s)\n",
    "\n"
   ]
  },
  {
   "cell_type": "markdown",
   "metadata": {},
   "source": [
    "### Note\n",
    "\n",
    "*Implicit batch* networks were previously the standard up until TensorRT 6. They supported variable batch size through the use of the builder.maxBatchSize attribute, but do not support variable shapes for any of the other dimensions.\n",
    "\n",
    "*Explicit Batch* networks introduced a few changes to the TensorRT API. \n",
    "First, inference is instead performed using execute_v2(bindings) and execute_async_v2(bindings, stream) , which no longer require a batch_size argument since it is taken from the context binding dimensions explicitly."
   ]
  },
  {
   "cell_type": "markdown",
   "metadata": {},
   "source": [
    "## Convert Model to TRT"
   ]
  },
  {
   "cell_type": "markdown",
   "metadata": {},
   "source": [
    "Sample commands\n",
    "\n",
    "Simple network with no dynamic batch dimension\n",
    "```\n",
    "trtexec --explicitBatch \\\n",
    "            --onnx=model_weights.onnx \\\n",
    "            --saveEngine=trt_export.engine \n",
    "```\n",
    "\n",
    "With dynamic batch\n",
    "``` \n",
    "trtexec --explicitBatch \\\n",
    "            --onnx=model_weights_dynamicbatch.onnx \\\n",
    "            --minShapes=input:1x1x48x48 \\\n",
    "            --optShapes=input:4x1x48x48 \\\n",
    "            --maxShapes=input:8x1x48x48 \\\n",
    "            --shapes=input:4x1x48x48 \\\n",
    "            --saveEngine=trt_export_dynamicbatch.engine \n",
    "```\n",
    "\n",
    "For generating and engine in FP16\n",
    "``` \n",
    "trtexec --explicitBatch \\\n",
    "            --onnx=model_weights_dynamicbatch.onnx \\\n",
    "            --minShapes=input:1x1x48x48 \\\n",
    "            --optShapes=input:4x1x48x48 \\\n",
    "            --maxShapes=input:8x1x48x48 \\\n",
    "            --shapes=input:4x1x48x48 \\\n",
    "            --saveEngine=trt_export_dynamicbatch_fp16.engine \\\n",
    "            --fp16\n",
    "```"
   ]
  },
  {
   "cell_type": "code",
   "execution_count": 62,
   "metadata": {
    "tags": []
   },
   "outputs": [
    {
     "name": "stdout",
     "output_type": "stream",
     "text": [
      "trtexec --explicitBatch --onnx=./ckpt/model_weights_dynamicbatch.onnx --minShapes=input:1x1x48x48 --optShapes=input:8x1x48x48 --maxShapes=input:96x1x48x48 --shapes=input:80x3x224x224 --saveEngine=./ckpt/trt_export_dynamicbatch_own_model.engine\n"
     ]
    },
    {
     "data": {
      "text/plain": [
       "256"
      ]
     },
     "execution_count": 62,
     "metadata": {},
     "output_type": "execute_result"
    }
   ],
   "source": [
    "cmd = 'trtexec --explicitBatch --onnx=./ckpt/model_weights_dynamicbatch.onnx --minShapes=input:1x1x48x48 --optShapes=input:8x1x48x48 --maxShapes=input:96x1x48x48 --shapes=input:80x3x224x224 --saveEngine=./ckpt/trt_export_dynamicbatch_own_model.engine'\n",
    "print(cmd)\n",
    "os.system(cmd)"
   ]
  },
  {
   "cell_type": "code",
   "execution_count": 63,
   "metadata": {
    "tags": []
   },
   "outputs": [
    {
     "name": "stdout",
     "output_type": "stream",
     "text": [
      "python onnx_to_tensorrt7.py --model=./ckpt/model_weights.onnx --output=model_trt_weights.engine\n"
     ]
    }
   ],
   "source": [
    "cmd = 'python onnx_to_tensorrt7.py --model=./ckpt/model_weights.onnx --output=model_trt_weights.engine'\n",
    "print(cmd)\n",
    "# os.system(cmd)"
   ]
  },
  {
   "cell_type": "markdown",
   "metadata": {},
   "source": [
    "#### Inspect Engine"
   ]
  },
  {
   "cell_type": "code",
   "execution_count": 64,
   "metadata": {},
   "outputs": [],
   "source": [
    "import tensorrt as trt\n",
    "import pycuda.driver as cuda\n",
    "import pycuda.autoinit"
   ]
  },
  {
   "cell_type": "code",
   "execution_count": 65,
   "metadata": {},
   "outputs": [],
   "source": [
    "def load_engine(filename):\n",
    "    # Load serialized engine file into memory\n",
    "    with open(filename, 'rb') as f, trt.Runtime(trt.Logger(trt.Logger.WARNING)) as runtime:\n",
    "        return runtime.deserialize_cuda_engine(f.read())\n",
    "\n",
    "def inspect_engine(engine):\n",
    "    profile_meta = {}\n",
    "    num_bindings_per_profile = engine.num_bindings // engine.num_optimization_profiles\n",
    "    for profile_index in range(engine.num_optimization_profiles):\n",
    "        start_binding = profile_index * num_bindings_per_profile\n",
    "        end_binding = start_binding + num_bindings_per_profile\n",
    "        \n",
    "        binding_meta = {}\n",
    "        for binding_index in range(start_binding, end_binding):\n",
    "            key = \"Binding {}\".format(binding_index)\n",
    "            binding_meta[key] = {\n",
    "                \"profile\": profile_index,\n",
    "                \"binding_index\": binding_index,\n",
    "                \"binding_shape\": engine.get_binding_shape(binding_index),\n",
    "                \"binding_dtype\": engine.get_binding_dtype(binding_index),\n",
    "                \"binding_name\": engine.get_binding_name(binding_index),\n",
    "            }\n",
    "\n",
    "            if engine.binding_is_input(binding_index):\n",
    "                binding_meta[key][\"binding_type\"] = \"INPUT\"\n",
    "                binding_meta[key][\"profile_shape\"] = engine.get_profile_shape(profile_index, binding_index)\n",
    "            else:\n",
    "                binding_meta[key][\"binding_type\"] = \"OUTPUT\"\n",
    "\n",
    "        profile_meta[\"Profile {}\".format(profile_index)] = binding_meta\n",
    "\n",
    "    from pprint import pprint\n",
    "    pprint(profile_meta)"
   ]
  },
  {
   "cell_type": "code",
   "execution_count": 66,
   "metadata": {
    "tags": []
   },
   "outputs": [
    {
     "name": "stdout",
     "output_type": "stream",
     "text": [
      "{'Profile 0': {'Binding 0': {'binding_dtype': DataType.FLOAT,\n",
      "                             'binding_index': 0,\n",
      "                             'binding_name': 'input',\n",
      "                             'binding_shape': (-1, 1, 48, 48),\n",
      "                             'binding_type': 'INPUT',\n",
      "                             'profile': 0,\n",
      "                             'profile_shape': [(1, 1, 48, 48),\n",
      "                                               (8, 1, 48, 48),\n",
      "                                               (96, 1, 48, 48)]},\n",
      "               'Binding 1': {'binding_dtype': DataType.FLOAT,\n",
      "                             'binding_index': 1,\n",
      "                             'binding_name': 'output',\n",
      "                             'binding_shape': (-1, 7),\n",
      "                             'binding_type': 'OUTPUT',\n",
      "                             'profile': 0}}}\n"
     ]
    }
   ],
   "source": [
    "engine_path = './ckpt/trt_export_dynamicbatch_own_model.engine'\n",
    "# Load a serialized engine into memory\n",
    "engine = load_engine(engine_path)\n",
    "# View various attributes of engine\n",
    "inspect_engine(engine)"
   ]
  },
  {
   "cell_type": "code",
   "execution_count": 67,
   "metadata": {
    "tags": []
   },
   "outputs": [
    {
     "name": "stdout",
     "output_type": "stream",
     "text": [
      "Active Optimization Profile: 0\n"
     ]
    }
   ],
   "source": [
    "# Create context, this can be re-used\n",
    "context = engine.create_execution_context()\n",
    "# Profile 0 (first profile) is used by default\n",
    "context.active_optimization_profile = 0\n",
    "print(\"Active Optimization Profile: {}\".format(context.active_optimization_profile))"
   ]
  },
  {
   "cell_type": "markdown",
   "metadata": {},
   "source": [
    "#### Binding Indices and Shape"
   ]
  },
  {
   "cell_type": "code",
   "execution_count": 68,
   "metadata": {},
   "outputs": [],
   "source": [
    "def get_binding_idxs(engine, profile_index):\n",
    "    # Calculate start/end binding indices for current context's profile\n",
    "    num_bindings_per_profile = engine.num_bindings // engine.num_optimization_profiles\n",
    "    start_binding = profile_index * num_bindings_per_profile\n",
    "    end_binding = start_binding + num_bindings_per_profile\n",
    "\n",
    "    print(\"Engine/Binding Metadata\")\n",
    "    print(\"\\tNumber of optimization profiles: {}\".format(engine.num_optimization_profiles))\n",
    "    print(\"\\tNumber of bindings per profile: {}\".format(num_bindings_per_profile))\n",
    "    print(\"\\tFirst binding for profile {}: {}\".format(profile_index, start_binding))\n",
    "    print(\"\\tLast binding for profile {}: {}\".format(profile_index, end_binding-1))\n",
    "\n",
    "\n",
    "    # Separate input and output binding indices for convenience\n",
    "    input_binding_idxs = []\n",
    "    output_binding_idxs = []\n",
    "    for binding_index in range(start_binding, end_binding):\n",
    "        if engine.binding_is_input(binding_index):\n",
    "            input_binding_idxs.append(binding_index)\n",
    "        else:\n",
    "            output_binding_idxs.append(binding_index)\n",
    "\n",
    "    return input_binding_idxs, output_binding_idxs"
   ]
  },
  {
   "cell_type": "code",
   "execution_count": 69,
   "metadata": {
    "tags": []
   },
   "outputs": [
    {
     "name": "stdout",
     "output_type": "stream",
     "text": [
      "Engine/Binding Metadata\n",
      "\tNumber of optimization profiles: 1\n",
      "\tNumber of bindings per profile: 2\n",
      "\tFirst binding for profile 0: 0\n",
      "\tLast binding for profile 0: 1\n"
     ]
    }
   ],
   "source": [
    "# These binding_idxs can change if either the context or the \n",
    "# active_optimization_profile are changed\n",
    "input_binding_idxs, output_binding_idxs = get_binding_idxs(engine, context.active_optimization_profile)\n",
    "input_names = [engine.get_binding_name(binding_idx) for binding_idx in input_binding_idxs]"
   ]
  },
  {
   "cell_type": "code",
   "execution_count": 70,
   "metadata": {},
   "outputs": [],
   "source": [
    "def is_dynamic(shape):\n",
    "    return any(dim is None or dim < 0 for dim in shape)\n",
    "\n",
    "def get_image_inputs(engine, context, input_binding_idxs,seed=42):\n",
    "    # Input data for inference\n",
    "    host_inputs = []\n",
    "    print(\"Generating Random Inputs\")\n",
    "    print(\"\\tUsing random seed: {}\".format(seed))\n",
    "    np.random.seed(seed)\n",
    "    for binding_index in input_binding_idxs:\n",
    "        # If input shape is fixed, we'll just use it\n",
    "        input_shape = context.get_binding_shape(binding_index)\n",
    "        input_name = engine.get_binding_name(binding_index)\n",
    "        print(\"\\tInput [{}] shape: {}\".format(input_name, input_shape))\n",
    "        # If input shape is dynamic, we'll arbitrarily select one of the\n",
    "        # the min/opt/max shapes from our optimization profile\n",
    "        if is_dynamic(input_shape):\n",
    "            profile_index = context.active_optimization_profile\n",
    "            profile_shapes = engine.get_profile_shape(profile_index, binding_index)\n",
    "            print(\"\\tProfile Shapes for [{}]: [kMIN {} | kOPT {} | kMAX {}]\".format(input_name, *profile_shapes))\n",
    "            # 0=min, 1=opt, 2=max, or choose any shape, (min <= shape <= max)\n",
    "            input_shape = profile_shapes[1]\n",
    "            print(\"\\tInput [{}] shape was dynamic, setting inference shape to {}\".format(input_name, input_shape))\n",
    "\n",
    "        host_inputs.append(np.random.random(input_shape).astype(np.float32))\n",
    "\n",
    "    return host_inputs\n"
   ]
  },
  {
   "cell_type": "code",
   "execution_count": 71,
   "metadata": {
    "tags": []
   },
   "outputs": [
    {
     "name": "stdout",
     "output_type": "stream",
     "text": [
      "Generating Random Inputs\n",
      "\tUsing random seed: 42\n",
      "\tInput [input] shape: (-1, 1, 48, 48)\n",
      "\tProfile Shapes for [input]: [kMIN (1, 1, 48, 48) | kOPT (8, 1, 48, 48) | kMAX (96, 1, 48, 48)]\n",
      "\tInput [input] shape was dynamic, setting inference shape to (8, 1, 48, 48)\n"
     ]
    }
   ],
   "source": [
    "# Generate random inputs based on profile shapes\n",
    "host_inputs = get_image_inputs(engine, context, input_binding_idxs)"
   ]
  },
  {
   "cell_type": "code",
   "execution_count": 72,
   "metadata": {
    "tags": []
   },
   "outputs": [
    {
     "name": "stdout",
     "output_type": "stream",
     "text": [
      "Input Metadata\n",
      "\tNumber of Inputs: 1\n",
      "\tInput Bindings for Profile 0: [0]\n",
      "\tInput names: ['input']\n",
      "\tInput shapes: [(8, 1, 48, 48)]\n"
     ]
    }
   ],
   "source": [
    "# Allocate device memory for inputs. This can be easily re-used if the\n",
    "# input shapes don't change\n",
    "device_inputs = [cuda.mem_alloc(h_input.nbytes) for h_input in host_inputs]\n",
    "\n",
    "# Copy host inputs to device, this needs to be done for each new input\n",
    "for h_input, d_input in zip(host_inputs, device_inputs):\n",
    "    cuda.memcpy_htod(d_input, h_input)\n",
    "\n",
    "print(\"Input Metadata\")\n",
    "print(\"\\tNumber of Inputs: {}\".format(len(input_binding_idxs)))\n",
    "print(\"\\tInput Bindings for Profile {}: {}\".format(context.active_optimization_profile, input_binding_idxs))\n",
    "print(\"\\tInput names: {}\".format(input_names))\n",
    "print(\"\\tInput shapes: {}\".format([inp.shape for inp in host_inputs]))"
   ]
  },
  {
   "cell_type": "code",
   "execution_count": 73,
   "metadata": {},
   "outputs": [],
   "source": [
    "def setup_binding_shapes(engine, context, host_inputs, input_binding_idxs,\n",
    "                  output_binding_idxs, has_input_shape_changed=False):\n",
    "    # Explicitly set the dynamic input shapes, so the dynamic output\n",
    "    # shapes can be computed internally\n",
    "\n",
    "    for host_input, binding_index in zip(host_inputs, input_binding_idxs):\n",
    "        context.set_binding_shape(binding_index, host_input.shape)\n",
    "\n",
    "    assert(context.all_binding_shapes_specified)\n",
    "\n",
    "    host_outputs = [None] * len(output_binding_idxs)\n",
    "    device_outputs = [None] * len(output_binding_idxs)\n",
    "    for i, binding_index in enumerate(output_binding_idxs):\n",
    "        output_shape = context.get_binding_shape(binding_index)\n",
    "        # print(\"output_shape\", output_shape)\n",
    "        # Allocate buffers to hold output results after copying back to host\n",
    "        host_outputs[i] = np.empty(output_shape, dtype=np.float32)\n",
    "        # Allocate output buffers on device\n",
    "        device_outputs[i] = cuda.mem_alloc(host_outputs[i].nbytes)\n",
    "\n",
    "    return host_outputs, device_outputs"
   ]
  },
  {
   "cell_type": "code",
   "execution_count": 74,
   "metadata": {
    "tags": []
   },
   "outputs": [
    {
     "name": "stdout",
     "output_type": "stream",
     "text": [
      "Output Metadata\n",
      "\tNumber of Outputs: 1\n",
      "\tOutput names: ['output']\n",
      "\tOutput shapes: [(8, 7)]\n",
      "\tOutput Bindings for Profile 0: [1]\n"
     ]
    }
   ],
   "source": [
    "# This needs to be called everytime your input shapes change\n",
    "# If your inputs are always the same shape (same batch size, etc.),\n",
    "# then you will only need to call this once\n",
    "host_outputs, device_outputs = setup_binding_shapes(\n",
    "    engine, context, host_inputs, input_binding_idxs, output_binding_idxs,\n",
    ")\n",
    "output_names = [engine.get_binding_name(binding_idx) for binding_idx in output_binding_idxs]\n",
    "\n",
    "print(\"Output Metadata\")\n",
    "print(\"\\tNumber of Outputs: {}\".format(len(output_binding_idxs)))\n",
    "print(\"\\tOutput names: {}\".format(output_names))\n",
    "print(\"\\tOutput shapes: {}\".format([out.shape for out in host_outputs]))\n",
    "print(\"\\tOutput Bindings for Profile {}: {}\".format(context.active_optimization_profile, output_binding_idxs))"
   ]
  },
  {
   "cell_type": "markdown",
   "metadata": {},
   "source": [
    "### Run TRT inference!"
   ]
  },
  {
   "cell_type": "code",
   "execution_count": 75,
   "metadata": {
    "tags": []
   },
   "outputs": [
    {
     "name": "stdout",
     "output_type": "stream",
     "text": [
      "Inference Outputs Shape: (8, 7)\n"
     ]
    }
   ],
   "source": [
    "# Bindings are a list of device pointers for inputs and outputs\n",
    "bindings = device_inputs + device_outputs\n",
    "\n",
    "# Inference\n",
    "context.execute_v2(bindings)\n",
    "\n",
    "# Copy outputs back to host to view results\n",
    "for h_output, d_output in zip(host_outputs, device_outputs):\n",
    "    cuda.memcpy_dtoh(h_output, d_output)\n",
    "\n",
    "# View outputs\n",
    "print(\"Inference Outputs Shape:\", host_outputs[0].shape)"
   ]
  },
  {
   "cell_type": "code",
   "execution_count": 76,
   "metadata": {
    "tags": []
   },
   "outputs": [],
   "source": [
    "def get_trt_inference_outputs(context,host_inputs,host_outputs,device_inputs, device_outputs):\n",
    "    if not isinstance(host_inputs, list) and isinstance(host_inputs, np.ndarray): host_inputs = [host_inputs]\n",
    "    else: raise ValueError('host inputs must be list of numpy-nd arrays')\n",
    "            \n",
    "    for h_input, d_input in zip(host_inputs, device_inputs): # Copy new inputs\n",
    "        cuda.memcpy_htod(d_input, h_input)\n",
    "    \n",
    "    bindings = device_inputs + device_outputs\n",
    "    context.execute_v2(bindings)\n",
    "\n",
    "    for h_output, d_output in zip(host_outputs, device_outputs):\n",
    "        cuda.memcpy_dtoh(h_output, d_output)  # Get outputs from device\n",
    "    \n",
    "    return host_outputs\n"
   ]
  },
  {
   "cell_type": "code",
   "execution_count": 99,
   "metadata": {},
   "outputs": [],
   "source": [
    "def process_prob2pred(model_output):\n",
    "    print(len(model_output),model_output[0].shape)\n",
    "    \n",
    "    pred=np.argmax(model_output[0],axis=0)\n",
    "    \n",
    "    labels=np.array([num2label[o] for o in pred])\n",
    "    return labels"
   ]
  },
  {
   "cell_type": "code",
   "execution_count": 100,
   "metadata": {},
   "outputs": [
    {
     "name": "stdout",
     "output_type": "stream",
     "text": [
      "1 (8, 7)\n"
     ]
    },
    {
     "data": {
      "text/plain": [
       "array(['Neutral', 'Surprise', 'Surprise', 'Anger', 'Happy', 'Disgust',\n",
       "       'Fear'], dtype='<U8')"
      ]
     },
     "execution_count": 100,
     "metadata": {},
     "output_type": "execute_result"
    }
   ],
   "source": [
    "result_trt_fp32 = get_trt_inference_outputs(context,to_numpy(im),host_outputs,device_inputs,device_outputs)\n",
    "process_prob2pred(result_trt_fp32)\n"
   ]
  },
  {
   "cell_type": "code",
   "execution_count": 26,
   "metadata": {},
   "outputs": [],
   "source": [
    "del context\n",
    "del engine"
   ]
  },
  {
   "cell_type": "markdown",
   "metadata": {},
   "source": [
    "### FP16 inference"
   ]
  },
  {
   "cell_type": "code",
   "execution_count": 101,
   "metadata": {},
   "outputs": [],
   "source": [
    "cmd = 'trtexec --explicitBatch --onnx=./ckpt/model_weights_dynamicbatch.onnx --minShapes=input:1x1x48x48 --optShapes=input:8x1x48x48 --maxShapes=input:96x1x48x48 --shapes=input:8x1x48x48 --saveEngine=./ckpt/trt_export_dynamic_ownmodel.engine --fp16'\n",
    "# print(cmd)"
   ]
  },
  {
   "cell_type": "code",
   "execution_count": 102,
   "metadata": {},
   "outputs": [
    {
     "name": "stdout",
     "output_type": "stream",
     "text": [
      "-rw-r--r-- 1 root root 1.2M Aug 17 10:55 ./ckpt/trt_export_dynamicbatch_own_model.engine\n"
     ]
    }
   ],
   "source": [
    "!ls -lh ./ckpt/*.engine"
   ]
  },
  {
   "cell_type": "code",
   "execution_count": 104,
   "metadata": {},
   "outputs": [
    {
     "name": "stdout",
     "output_type": "stream",
     "text": [
      "{'Profile 0': {'Binding 0': {'binding_dtype': DataType.FLOAT,\n",
      "                             'binding_index': 0,\n",
      "                             'binding_name': 'input',\n",
      "                             'binding_shape': (-1, 1, 48, 48),\n",
      "                             'binding_type': 'INPUT',\n",
      "                             'profile': 0,\n",
      "                             'profile_shape': [(1, 1, 48, 48),\n",
      "                                               (8, 1, 48, 48),\n",
      "                                               (96, 1, 48, 48)]},\n",
      "               'Binding 1': {'binding_dtype': DataType.FLOAT,\n",
      "                             'binding_index': 1,\n",
      "                             'binding_name': 'output',\n",
      "                             'binding_shape': (-1, 7),\n",
      "                             'binding_type': 'OUTPUT',\n",
      "                             'profile': 0}}}\n",
      "Engine/Binding Metadata\n",
      "\tNumber of optimization profiles: 1\n",
      "\tNumber of bindings per profile: 2\n",
      "\tFirst binding for profile 0: 0\n",
      "\tLast binding for profile 0: 1\n",
      "Generating Random Inputs\n",
      "\tUsing random seed: 42\n",
      "\tInput [input] shape: (-1, 1, 48, 48)\n",
      "\tProfile Shapes for [input]: [kMIN (1, 1, 48, 48) | kOPT (8, 1, 48, 48) | kMAX (96, 1, 48, 48)]\n",
      "\tInput [input] shape was dynamic, setting inference shape to (8, 1, 48, 48)\n"
     ]
    }
   ],
   "source": [
    "engine = load_engine('./ckpt/trt_export_dynamicbatch_own_model.engine')\n",
    "inspect_engine(engine)\n",
    "\n",
    "context = engine.create_execution_context()\n",
    "context.active_optimization_profile = 0\n",
    "\n",
    "input_binding_idxs, output_binding_idxs = get_binding_idxs(engine, context.active_optimization_profile)\n",
    "\n",
    "host_inputs = get_image_inputs(engine, context, input_binding_idxs)\n",
    "device_inputs = [cuda.mem_alloc(h_input.nbytes) for h_input in host_inputs]\n",
    "\n",
    "for h_input, d_input in zip(host_inputs, device_inputs):\n",
    "    cuda.memcpy_htod(d_input, h_input)\n",
    "\n",
    "# Placeholder for output buffers, will resize as necessary\n",
    "host_outputs, device_outputs = setup_binding_shapes(engine, context, host_inputs,\n",
    "                                                    input_binding_idxs, output_binding_idxs)\n",
    "bindings = device_inputs + device_outputs"
   ]
  },
  {
   "cell_type": "code",
   "execution_count": 105,
   "metadata": {},
   "outputs": [
    {
     "name": "stdout",
     "output_type": "stream",
     "text": [
      "1 (8, 7)\n"
     ]
    },
    {
     "data": {
      "text/plain": [
       "array(['Neutral', 'Surprise', 'Surprise', 'Anger', 'Happy', 'Disgust',\n",
       "       'Fear'], dtype='<U8')"
      ]
     },
     "execution_count": 105,
     "metadata": {},
     "output_type": "execute_result"
    }
   ],
   "source": [
    "result_trt_fp16 = get_trt_inference_outputs(context,to_numpy(im),host_outputs,device_inputs,device_outputs)\n",
    "process_prob2pred(result_trt_fp16)"
   ]
  },
  {
   "cell_type": "markdown",
   "metadata": {},
   "source": [
    "### Profiling\n",
    "\n",
    "`nsys profile -y 0 -w true -t cudnn,cuda,osrt,nvtx -o Report.qdrep python run_inference.py`"
   ]
  }
 ],
 "metadata": {
  "kernelspec": {
   "display_name": "Python 3",
   "language": "python",
   "name": "python3"
  },
  "language_info": {
   "codemirror_mode": {
    "name": "ipython",
    "version": 3
   },
   "file_extension": ".py",
   "mimetype": "text/x-python",
   "name": "python",
   "nbconvert_exporter": "python",
   "pygments_lexer": "ipython3",
   "version": "3.6.10"
  }
 },
 "nbformat": 4,
 "nbformat_minor": 4
}
